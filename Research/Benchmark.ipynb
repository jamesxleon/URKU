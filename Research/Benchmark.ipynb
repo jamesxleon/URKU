{
 "cells": [
  {
   "cell_type": "markdown",
   "metadata": {},
   "source": [
    ">*Living the dream is worth the chase.*  \n",
    ">You are working for something greater."
   ]
  },
  {
   "cell_type": "markdown",
   "metadata": {},
   "source": [
    "# On Kichwa\n",
    "\n",
    "## The Antropologist view\n",
    "\n",
    "### Let's Talk to:\n",
    "- Em: She is interested. She has audios. **Need to think how to transcribe those**\n",
    "- Simeon: ...\n",
    "- Kuymi: ..."
   ]
  },
  {
   "cell_type": "markdown",
   "metadata": {},
   "source": [
    "## The Material\n",
    "\n",
    "### Collect the data: \n",
    "- Unified Kichwa from the Education Ministry\n",
    "- Dialects from books and dictionaries\n",
    "- Em, Simeon and Kuymi must have a lot of files"
   ]
  },
  {
   "cell_type": "markdown",
   "metadata": {},
   "source": []
  }
 ],
 "metadata": {
  "language_info": {
   "name": "python"
  },
  "orig_nbformat": 4
 },
 "nbformat": 4,
 "nbformat_minor": 2
}
