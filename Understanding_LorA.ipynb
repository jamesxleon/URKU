{
 "cells": [
  {
   "cell_type": "markdown",
   "metadata": {},
   "source": [
    "# Singular Value Decomposition"
   ]
  },
  {
   "cell_type": "code",
   "execution_count": 2,
   "metadata": {},
   "outputs": [],
   "source": [
    "import torch\n",
    "import numpy as np"
   ]
  },
  {
   "cell_type": "code",
   "execution_count": 3,
   "metadata": {},
   "outputs": [
    {
     "name": "stdout",
     "output_type": "stream",
     "text": [
      "tensor([[0.5726, 1.1702, 0.3322, 0.6411, 0.3239, 0.2988, 0.6327, 0.7322, 0.6474,\n",
      "         0.7556],\n",
      "        [0.1006, 0.2040, 0.0584, 0.1130, 0.0570, 0.0531, 0.1118, 0.1260, 0.1119,\n",
      "         0.1311],\n",
      "        [0.4030, 0.8723, 0.2336, 0.4398, 0.2245, 0.1901, 0.4249, 0.6007, 0.5155,\n",
      "         0.5855],\n",
      "        [0.6076, 1.2840, 0.3523, 0.6703, 0.3406, 0.2994, 0.6535, 0.8512, 0.7390,\n",
      "         0.8485],\n",
      "        [0.5035, 1.0063, 0.2922, 0.5689, 0.2864, 0.2720, 0.5657, 0.6044, 0.5416,\n",
      "         0.6395],\n",
      "        [0.3604, 0.6937, 0.2092, 0.4134, 0.2069, 0.2056, 0.4160, 0.3861, 0.3551,\n",
      "         0.4285],\n",
      "        [0.0667, 0.1778, 0.0386, 0.0651, 0.0348, 0.0177, 0.0564, 0.1578, 0.1262,\n",
      "         0.1337],\n",
      "        [0.3585, 0.7522, 0.2079, 0.3968, 0.2014, 0.1789, 0.3879, 0.4927, 0.4294,\n",
      "         0.4947],\n",
      "        [0.7196, 1.3841, 0.4178, 0.8257, 0.4132, 0.4111, 0.8312, 0.7691, 0.7077,\n",
      "         0.8544],\n",
      "        [0.1959, 0.4104, 0.1136, 0.2169, 0.1101, 0.0980, 0.2122, 0.2683, 0.2339,\n",
      "         0.2697]])\n"
     ]
    }
   ],
   "source": [
    "torch.manual_seed(0)\n",
    "\n",
    "d, k = 10, 10\n",
    "\n",
    "# Create an artifially rank-defficient matrix\n",
    "W_rank = 2\n",
    "W = torch.rand(d, W_rank) @ torch.rand(W_rank, k) # 10 * 2 @ 2 * 10 = 10 * 10 \n",
    "print(W)"
   ]
  },
  {
   "cell_type": "markdown",
   "metadata": {},
   "source": [
    "Evaluate the rank of W"
   ]
  },
  {
   "cell_type": "code",
   "execution_count": 5,
   "metadata": {},
   "outputs": [
    {
     "name": "stdout",
     "output_type": "stream",
     "text": [
      "Rank of W: 2\n"
     ]
    }
   ],
   "source": [
    "W_rank = np.linalg.matrix_rank(W)\n",
    "print(f\"Rank of W: {W_rank}\")"
   ]
  },
  {
   "cell_type": "markdown",
   "metadata": {},
   "source": [
    "Calculate the SVD of W\n",
    "\n",
    "We can decompose the the matrix into three smaller-dimension matrices that result in W when multiplied together. So, when we capture `r` columns from these decomposed matrices, we will capture most of the information from the original W matrix"
   ]
  },
  {
   "cell_type": "code",
   "execution_count": 7,
   "metadata": {},
   "outputs": [
    {
     "name": "stdout",
     "output_type": "stream",
     "text": [
      "Shape of B: torch.Size([10, 2])\n",
      "Shape of A: torch.Size([2, 10])\n"
     ]
    }
   ],
   "source": [
    "# Perform SVD on W ( W = U x S x V^T )\n",
    "U, S, V = torch.svd(W)\n",
    "\n",
    "# For rank-r factorization, keep only first r singular values (and corresponding columns of U and V)\n",
    "U_r = U[:, :W_rank]\n",
    "S_r = torch.diag(S[:W_rank])\n",
    "V_r = V[:, :W_rank].t()\n",
    "\n",
    "# Compute C = U_r + S_r and R = V_r\n",
    "\n",
    "B = U_r @ S_r \n",
    "A = V_r\n",
    "print(f'Shape of B: {B.shape}')\n",
    "print(f'Shape of A: {A.shape}')"
   ]
  },
  {
   "cell_type": "markdown",
   "metadata": {},
   "source": [
    "Given the same input, check the output using W vs the decomposition"
   ]
  },
  {
   "cell_type": "code",
   "execution_count": 8,
   "metadata": {},
   "outputs": [
    {
     "name": "stdout",
     "output_type": "stream",
     "text": [
      "Original y using W: tensor([ 4.5176,  2.1801,  4.0169,  5.3129,  3.7650,  3.7351, -0.6726,  1.8690,\n",
      "         4.9104,  0.7332])\n",
      "\n",
      " Y' using BA: tensor([ 4.5176,  2.1801,  4.0169,  5.3129,  3.7650,  3.7351, -0.6726,  1.8690,\n",
      "         4.9104,  0.7332])\n"
     ]
    }
   ],
   "source": [
    "# Generate random bias and input\n",
    "bias = torch.randn(d)\n",
    "x = torch.rand(d)\n",
    "\n",
    "# Compute y = Wx + b\n",
    "y = W @ x + bias\n",
    "# Compute y' = CRx + b\n",
    "y_prime = (B @ A) @ x + bias\n",
    "\n",
    "print(f\"Original y using W: {y}\")\n",
    "print(f\"\\n Y\\' using BA: {y_prime}\")"
   ]
  },
  {
   "cell_type": "code",
   "execution_count": 9,
   "metadata": {},
   "outputs": [
    {
     "name": "stdout",
     "output_type": "stream",
     "text": [
      "Total parameters of W: 100\n",
      "Total parameters of B and A: 40\n"
     ]
    }
   ],
   "source": [
    "print(f\"Total parameters of W: {W.nelement()}\")\n",
    "print(f\"Total parameters of B and A: {B.nelement() + A.nelement()}\")"
   ]
  },
  {
   "cell_type": "code",
   "execution_count": null,
   "metadata": {},
   "outputs": [],
   "source": []
  }
 ],
 "metadata": {
  "kernelspec": {
   "display_name": "llama_env",
   "language": "python",
   "name": "python3"
  },
  "language_info": {
   "codemirror_mode": {
    "name": "ipython",
    "version": 3
   },
   "file_extension": ".py",
   "mimetype": "text/x-python",
   "name": "python",
   "nbconvert_exporter": "python",
   "pygments_lexer": "ipython3",
   "version": "3.10.10"
  }
 },
 "nbformat": 4,
 "nbformat_minor": 2
}
